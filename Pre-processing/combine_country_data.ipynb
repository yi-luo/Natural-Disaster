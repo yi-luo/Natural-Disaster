{
 "cells": [
  {
   "cell_type": "code",
   "execution_count": 1,
   "metadata": {},
   "outputs": [],
   "source": [
    "import pandas as pd\n",
    "import numpy as np\n",
    "import matplotlib.pyplot as plt\n",
    "import seaborn as sns\n",
    "import copy\n",
    "from sklearn.linear_model import LinearRegression\n",
    "from sklearn.model_selection import train_test_split\n",
    "from sklearn import metrics\n",
    "#from pyspark import SparkContext, SparkConf\n",
    "#sc =SparkContext()\n",
    "pd.set_option('display.float_format', lambda x: '%.3f' % x)"
   ]
  },
  {
   "cell_type": "code",
   "execution_count": 2,
   "metadata": {},
   "outputs": [
    {
     "name": "stdout",
     "output_type": "stream",
     "text": [
      "Index(['index', 'Start date', 'ISO', 'Country', 'Latitude', 'Longitude',\n",
      "       'Magnitude value', 'Total deaths', 'Total affected',\n",
      "       'Total damage ('000 US$)', 'Month', 'Year', 'Day', 'Latitude_round',\n",
      "       'Longitude_round', 'Mag_round', 'time', 'latitude', 'longitude',\n",
      "       'depth', 'mag', 'place', 'magType', 'year', 'month', 'day',\n",
      "       'latitude_round', 'longitude_round', 'mag_round', 'country', 'diff_mag',\n",
      "       'diff_lat', 'diff_long'],\n",
      "      dtype='object')\n",
      "(494, 12)\n"
     ]
    },
    {
     "data": {
      "text/html": [
       "<div>\n",
       "<style scoped>\n",
       "    .dataframe tbody tr th:only-of-type {\n",
       "        vertical-align: middle;\n",
       "    }\n",
       "\n",
       "    .dataframe tbody tr th {\n",
       "        vertical-align: top;\n",
       "    }\n",
       "\n",
       "    .dataframe thead th {\n",
       "        text-align: right;\n",
       "    }\n",
       "</style>\n",
       "<table border=\"1\" class=\"dataframe\">\n",
       "  <thead>\n",
       "    <tr style=\"text-align: right;\">\n",
       "      <th></th>\n",
       "      <th>ISO</th>\n",
       "      <th>Country</th>\n",
       "      <th>latitude</th>\n",
       "      <th>longitude</th>\n",
       "      <th>depth</th>\n",
       "      <th>mag</th>\n",
       "      <th>year</th>\n",
       "      <th>month</th>\n",
       "      <th>day</th>\n",
       "      <th>Total affected</th>\n",
       "      <th>Total deaths</th>\n",
       "      <th>Total damage ('000 US$)</th>\n",
       "    </tr>\n",
       "  </thead>\n",
       "  <tbody>\n",
       "    <tr>\n",
       "      <th>0</th>\n",
       "      <td>AFG</td>\n",
       "      <td>Afghanistan</td>\n",
       "      <td>35.169</td>\n",
       "      <td>69.389</td>\n",
       "      <td>62.100</td>\n",
       "      <td>5.000</td>\n",
       "      <td>2001.000</td>\n",
       "      <td>6.000</td>\n",
       "      <td>1.000</td>\n",
       "      <td>270</td>\n",
       "      <td>4</td>\n",
       "      <td>0</td>\n",
       "    </tr>\n",
       "    <tr>\n",
       "      <th>1</th>\n",
       "      <td>AFG</td>\n",
       "      <td>Afghanistan</td>\n",
       "      <td>36.429</td>\n",
       "      <td>70.438</td>\n",
       "      <td>209.000</td>\n",
       "      <td>6.300</td>\n",
       "      <td>2002.000</td>\n",
       "      <td>3.000</td>\n",
       "      <td>3.000</td>\n",
       "      <td>3513</td>\n",
       "      <td>150</td>\n",
       "      <td>0</td>\n",
       "    </tr>\n",
       "    <tr>\n",
       "      <th>2</th>\n",
       "      <td>AFG</td>\n",
       "      <td>Afghanistan</td>\n",
       "      <td>33.426</td>\n",
       "      <td>69.524</td>\n",
       "      <td>10.000</td>\n",
       "      <td>5.200</td>\n",
       "      <td>2004.000</td>\n",
       "      <td>7.000</td>\n",
       "      <td>18.000</td>\n",
       "      <td>1040</td>\n",
       "      <td>2</td>\n",
       "      <td>0</td>\n",
       "    </tr>\n",
       "  </tbody>\n",
       "</table>\n",
       "</div>"
      ],
      "text/plain": [
       "   ISO      Country  latitude  longitude   depth   mag     year  month    day  \\\n",
       "0  AFG  Afghanistan    35.169     69.389  62.100 5.000 2001.000  6.000  1.000   \n",
       "1  AFG  Afghanistan    36.429     70.438 209.000 6.300 2002.000  3.000  3.000   \n",
       "2  AFG  Afghanistan    33.426     69.524  10.000 5.200 2004.000  7.000 18.000   \n",
       "\n",
       "   Total affected  Total deaths  Total damage ('000 US$)  \n",
       "0             270             4                        0  \n",
       "1            3513           150                        0  \n",
       "2            1040             2                        0  "
      ]
     },
     "execution_count": 2,
     "metadata": {},
     "output_type": "execute_result"
    }
   ],
   "source": [
    "earthquake_data = pd.read_csv(\"earthquake_data.csv\")\n",
    "print(earthquake_data.columns)\n",
    "earthquake_data = earthquake_data[['ISO','Country','latitude','longitude','depth','mag',\n",
    "                                   'year','month','day','Total affected', 'Total deaths',\"Total damage ('000 US$)\"]]\n",
    "print(earthquake_data.shape)\n",
    "earthquake_data.head(3)"
   ]
  },
  {
   "cell_type": "code",
   "execution_count": 3,
   "metadata": {},
   "outputs": [],
   "source": [
    "earthquake_data.iloc[11,1] = 'Samoa'\n",
    "earthquake_data.iloc[264,1] = 'United Kingdom'\n",
    "earthquake_data.iloc[316,1] = 'Macedonia'"
   ]
  },
  {
   "cell_type": "code",
   "execution_count": 4,
   "metadata": {},
   "outputs": [
    {
     "name": "stdout",
     "output_type": "stream",
     "text": [
      "Afghanistan\n"
     ]
    },
    {
     "data": {
      "text/html": [
       "<div>\n",
       "<style scoped>\n",
       "    .dataframe tbody tr th:only-of-type {\n",
       "        vertical-align: middle;\n",
       "    }\n",
       "\n",
       "    .dataframe tbody tr th {\n",
       "        vertical-align: top;\n",
       "    }\n",
       "\n",
       "    .dataframe thead th {\n",
       "        text-align: right;\n",
       "    }\n",
       "</style>\n",
       "<table border=\"1\" class=\"dataframe\">\n",
       "  <thead>\n",
       "    <tr style=\"text-align: right;\">\n",
       "      <th></th>\n",
       "      <th>Country</th>\n",
       "      <th>2017</th>\n",
       "    </tr>\n",
       "  </thead>\n",
       "  <tbody>\n",
       "    <tr>\n",
       "      <th>0</th>\n",
       "      <td>Afghanistan</td>\n",
       "      <td>0.498</td>\n",
       "    </tr>\n",
       "    <tr>\n",
       "      <th>1</th>\n",
       "      <td>Albania</td>\n",
       "      <td>0.785</td>\n",
       "    </tr>\n",
       "    <tr>\n",
       "      <th>2</th>\n",
       "      <td>Algeria</td>\n",
       "      <td>0.754</td>\n",
       "    </tr>\n",
       "  </tbody>\n",
       "</table>\n",
       "</div>"
      ],
      "text/plain": [
       "       Country  2017\n",
       "0  Afghanistan 0.498\n",
       "1      Albania 0.785\n",
       "2      Algeria 0.754"
      ]
     },
     "execution_count": 4,
     "metadata": {},
     "output_type": "execute_result"
    }
   ],
   "source": [
    "hdi_data = pd.read_csv(\"datasets/Human Development Index (HDI).csv\")\n",
    "hdi_data['Country'] = hdi_data['Country'].apply(lambda x: x[1:])\n",
    "print(hdi_data['Country'][0])\n",
    "hdi_data.head(3)"
   ]
  },
  {
   "cell_type": "code",
   "execution_count": 5,
   "metadata": {},
   "outputs": [
    {
     "name": "stdout",
     "output_type": "stream",
     "text": [
      "(494, 13)\n"
     ]
    },
    {
     "data": {
      "text/html": [
       "<div>\n",
       "<style scoped>\n",
       "    .dataframe tbody tr th:only-of-type {\n",
       "        vertical-align: middle;\n",
       "    }\n",
       "\n",
       "    .dataframe tbody tr th {\n",
       "        vertical-align: top;\n",
       "    }\n",
       "\n",
       "    .dataframe thead th {\n",
       "        text-align: right;\n",
       "    }\n",
       "</style>\n",
       "<table border=\"1\" class=\"dataframe\">\n",
       "  <thead>\n",
       "    <tr style=\"text-align: right;\">\n",
       "      <th></th>\n",
       "      <th>ISO</th>\n",
       "      <th>Country</th>\n",
       "      <th>latitude</th>\n",
       "      <th>longitude</th>\n",
       "      <th>depth</th>\n",
       "      <th>mag</th>\n",
       "      <th>year</th>\n",
       "      <th>month</th>\n",
       "      <th>day</th>\n",
       "      <th>Total affected</th>\n",
       "      <th>Total deaths</th>\n",
       "      <th>Total damage ('000 US$)</th>\n",
       "      <th>2017</th>\n",
       "    </tr>\n",
       "  </thead>\n",
       "  <tbody>\n",
       "    <tr>\n",
       "      <th>87</th>\n",
       "      <td>GLP</td>\n",
       "      <td>Guadeloupe</td>\n",
       "      <td>15.679</td>\n",
       "      <td>-61.706</td>\n",
       "      <td>14.000</td>\n",
       "      <td>6.300</td>\n",
       "      <td>2004.000</td>\n",
       "      <td>11.000</td>\n",
       "      <td>21.000</td>\n",
       "      <td>153</td>\n",
       "      <td>1</td>\n",
       "      <td>0</td>\n",
       "      <td>nan</td>\n",
       "    </tr>\n",
       "    <tr>\n",
       "      <th>186</th>\n",
       "      <td>MTQ</td>\n",
       "      <td>Martinique</td>\n",
       "      <td>14.944</td>\n",
       "      <td>-61.274</td>\n",
       "      <td>156.000</td>\n",
       "      <td>7.400</td>\n",
       "      <td>2007.000</td>\n",
       "      <td>11.000</td>\n",
       "      <td>29.000</td>\n",
       "      <td>100</td>\n",
       "      <td>1</td>\n",
       "      <td>0</td>\n",
       "      <td>nan</td>\n",
       "    </tr>\n",
       "    <tr>\n",
       "      <th>226</th>\n",
       "      <td>SCG</td>\n",
       "      <td>Serbia Montenegro</td>\n",
       "      <td>42.436</td>\n",
       "      <td>21.466</td>\n",
       "      <td>10.000</td>\n",
       "      <td>5.700</td>\n",
       "      <td>2002.000</td>\n",
       "      <td>4.000</td>\n",
       "      <td>24.000</td>\n",
       "      <td>100</td>\n",
       "      <td>1</td>\n",
       "      <td>0</td>\n",
       "      <td>nan</td>\n",
       "    </tr>\n",
       "    <tr>\n",
       "      <th>232</th>\n",
       "      <td>SOM</td>\n",
       "      <td>Somalia</td>\n",
       "      <td>3.295</td>\n",
       "      <td>95.982</td>\n",
       "      <td>30.000</td>\n",
       "      <td>9.100</td>\n",
       "      <td>2004.000</td>\n",
       "      <td>12.000</td>\n",
       "      <td>26.000</td>\n",
       "      <td>105083</td>\n",
       "      <td>298</td>\n",
       "      <td>100000</td>\n",
       "      <td>nan</td>\n",
       "    </tr>\n",
       "    <tr>\n",
       "      <th>316</th>\n",
       "      <td>MKD</td>\n",
       "      <td>Macedonia</td>\n",
       "      <td>42.008</td>\n",
       "      <td>21.488</td>\n",
       "      <td>13.200</td>\n",
       "      <td>5.100</td>\n",
       "      <td>2016.000</td>\n",
       "      <td>9.000</td>\n",
       "      <td>11.000</td>\n",
       "      <td>100</td>\n",
       "      <td>0</td>\n",
       "      <td>10000</td>\n",
       "      <td>nan</td>\n",
       "    </tr>\n",
       "  </tbody>\n",
       "</table>\n",
       "</div>"
      ],
      "text/plain": [
       "     ISO            Country  latitude  longitude   depth   mag     year  \\\n",
       "87   GLP         Guadeloupe    15.679    -61.706  14.000 6.300 2004.000   \n",
       "186  MTQ         Martinique    14.944    -61.274 156.000 7.400 2007.000   \n",
       "226  SCG  Serbia Montenegro    42.436     21.466  10.000 5.700 2002.000   \n",
       "232  SOM            Somalia     3.295     95.982  30.000 9.100 2004.000   \n",
       "316  MKD          Macedonia    42.008     21.488  13.200 5.100 2016.000   \n",
       "\n",
       "     month    day  Total affected  Total deaths  Total damage ('000 US$)  2017  \n",
       "87  11.000 21.000             153             1                        0   nan  \n",
       "186 11.000 29.000             100             1                        0   nan  \n",
       "226  4.000 24.000             100             1                        0   nan  \n",
       "232 12.000 26.000          105083           298                   100000   nan  \n",
       "316  9.000 11.000             100             0                    10000   nan  "
      ]
     },
     "execution_count": 5,
     "metadata": {},
     "output_type": "execute_result"
    }
   ],
   "source": [
    "merged_data = pd.merge(earthquake_data,hdi_data,how='left',left_on=\"Country\",right_on=\"Country\")\n",
    "print(merged_data.shape)\n",
    "merged_data[merged_data['2017'].isnull()]"
   ]
  },
  {
   "cell_type": "code",
   "execution_count": 8,
   "metadata": {},
   "outputs": [
    {
     "data": {
      "text/plain": [
       "(489, 13)"
      ]
     },
     "execution_count": 8,
     "metadata": {},
     "output_type": "execute_result"
    }
   ],
   "source": [
    "merged_data.dropna(subset=['2017'],inplace=True)\n",
    "merged_data.shape"
   ]
  },
  {
   "cell_type": "code",
   "execution_count": 9,
   "metadata": {},
   "outputs": [],
   "source": [
    "merged_data.to_csv(\"earthquake_data.csv\",index=False)"
   ]
  },
  {
   "cell_type": "code",
   "execution_count": null,
   "metadata": {},
   "outputs": [],
   "source": []
  }
 ],
 "metadata": {
  "kernelspec": {
   "display_name": "Python 3",
   "language": "python",
   "name": "python3"
  },
  "language_info": {
   "codemirror_mode": {
    "name": "ipython",
    "version": 3
   },
   "file_extension": ".py",
   "mimetype": "text/x-python",
   "name": "python",
   "nbconvert_exporter": "python",
   "pygments_lexer": "ipython3",
   "version": "3.7.1"
  }
 },
 "nbformat": 4,
 "nbformat_minor": 2
}
